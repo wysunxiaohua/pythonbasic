{
 "cells": [
  {
   "cell_type": "code",
   "execution_count": 1,
   "metadata": {},
   "outputs": [],
   "source": [
    "import tensorflow as tf\n",
    "from tensorflow.keras import layers"
   ]
  },
  {
   "cell_type": "code",
   "execution_count": 2,
   "metadata": {},
   "outputs": [],
   "source": [
    "batch_size = 8 # 每⼀批所处理的图⽚数量\n",
    "img_height = 256 # 图⽚⾼度，单位为像素\n",
    "img_width = 256 # 图⽚宽度，单位为像素\n",
    "\n",
    "train_dir = './datasets/flower_photos'"
   ]
  },
  {
   "cell_type": "code",
   "execution_count": 3,
   "metadata": {},
   "outputs": [
    {
     "name": "stdout",
     "output_type": "stream",
     "text": [
      "Found 3670 files belonging to 5 classes.\n",
      "Using 2936 files for training.\n"
     ]
    }
   ],
   "source": [
    "train_ds = tf.keras.preprocessing.image_dataset_from_directory(\n",
    "train_dir,\n",
    "validation_split=0.2, # 设定验证集⽐例\n",
    "subset=\"training\",\n",
    "seed=123,\n",
    "#image_size=(img_height, img_width),\n",
    "batch_size=batch_size)"
   ]
  },
  {
   "cell_type": "code",
   "execution_count": null,
   "metadata": {},
   "outputs": [],
   "source": []
  },
  {
   "cell_type": "code",
   "execution_count": 4,
   "metadata": {},
   "outputs": [
    {
     "name": "stdout",
     "output_type": "stream",
     "text": [
      "Found 3670 files belonging to 5 classes.\n",
      "Using 734 files for validation.\n"
     ]
    }
   ],
   "source": [
    "val_ds = tf.keras.preprocessing.image_dataset_from_directory(\n",
    "train_dir,\n",
    "validation_split=0.2, # 设定验证集⽐例\n",
    "subset=\"validation\",\n",
    "seed=123,\n",
    "#image_size=(img_height, img_width),\n",
    "batch_size=batch_size)"
   ]
  },
  {
   "cell_type": "code",
   "execution_count": 5,
   "metadata": {},
   "outputs": [
    {
     "name": "stdout",
     "output_type": "stream",
     "text": [
      "['daisy', 'dandelion', 'roses', 'sunflowers', 'tulips']\n",
      "(8, 256, 256, 3)\n",
      "(8,)\n"
     ]
    }
   ],
   "source": [
    "print(train_ds.class_names)\n",
    "for image_batch, labels_batch in train_ds:\n",
    "  print(image_batch.shape)\n",
    "  print(labels_batch.shape)\n",
    "  break"
   ]
  },
  {
   "cell_type": "code",
   "execution_count": 6,
   "metadata": {},
   "outputs": [],
   "source": [
    "augmentation_dict = {\n",
    "    'RandomFlip': tf.keras.layers.experimental.preprocessing.RandomFlip(\"horizontal_and_vertical\"),\n",
    "    'RandomRotation': tf.keras.layers.experimental.preprocessing.RandomRotation(0.2),\n",
    "    'RandomContrast': tf.keras.layers.experimental.preprocessing.RandomContrast(0.2),\n",
    "    'RandomZoom': tf.keras.layers.experimental.preprocessing.RandomZoom(height_factor=0.1, width_factor=0.1),\n",
    "    'RandomTranslation': tf.keras.layers.experimental.preprocessing.RandomTranslation(height_factor=0.1, width_factor=0.1),\n",
    "    'RandomCrop': tf.keras.layers.experimental.preprocessing.RandomCrop(img_height, img_width),\n",
    "\n",
    "}"
   ]
  },
  {
   "cell_type": "code",
   "execution_count": 7,
   "metadata": {},
   "outputs": [],
   "source": [
    "num_classes = 5\n",
    "model = tf.keras.Sequential([\n",
    "    tf.keras.layers.experimental.preprocessing.Rescaling(1. / 255),\n",
    "    augmentation_dict['RandomTranslation'],\n",
    "    tf.keras.layers.Conv2D(32, 3, activation='relu'),\n",
    "    tf.keras.layers.MaxPooling2D(),\n",
    "    tf.keras.layers.Conv2D(32, 3, activation='relu'),\n",
    "    tf.keras.layers.MaxPooling2D(),\n",
    "    tf.keras.layers.Conv2D(32, 3, activation='relu'),\n",
    "    tf.keras.layers.MaxPooling2D(),\n",
    "    tf.keras.layers.Flatten(),\n",
    "    tf.keras.layers.Dense(128, activation='relu'),\n",
    "    tf.keras.layers.Dense(num_classes)\n",
    "])"
   ]
  },
  {
   "cell_type": "code",
   "execution_count": 8,
   "metadata": {},
   "outputs": [],
   "source": [
    "model.compile(\n",
    "optimizer='adam',\n",
    "loss=tf.losses.SparseCategoricalCrossentropy(from_logits=True),\n",
    "metrics=['accuracy'])"
   ]
  },
  {
   "cell_type": "code",
   "execution_count": 9,
   "metadata": {},
   "outputs": [
    {
     "name": "stdout",
     "output_type": "stream",
     "text": [
      "Epoch 1/5\n",
      "367/367 [==============================] - 90s 243ms/step - loss: 1.3201 - accuracy: 0.4421 - val_loss: 1.0980 - val_accuracy: 0.5586\n",
      "Epoch 2/5\n",
      "367/367 [==============================] - 87s 237ms/step - loss: 1.0369 - accuracy: 0.5875 - val_loss: 0.9444 - val_accuracy: 0.6390\n",
      "Epoch 3/5\n",
      "367/367 [==============================] - 89s 242ms/step - loss: 0.8986 - accuracy: 0.6553 - val_loss: 0.8794 - val_accuracy: 0.6471\n",
      "Epoch 4/5\n",
      "367/367 [==============================] - 88s 240ms/step - loss: 0.8059 - accuracy: 0.6948 - val_loss: 0.8359 - val_accuracy: 0.6730\n",
      "Epoch 5/5\n",
      "367/367 [==============================] - 85s 232ms/step - loss: 0.7620 - accuracy: 0.7081 - val_loss: 0.7970 - val_accuracy: 0.6907\n"
     ]
    },
    {
     "data": {
      "text/plain": [
       "<keras.callbacks.History at 0x7f99fc9af490>"
      ]
     },
     "execution_count": 9,
     "metadata": {},
     "output_type": "execute_result"
    }
   ],
   "source": [
    "model.fit(\n",
    "train_ds,\n",
    "validation_data=val_ds,\n",
    "epochs=5\n",
    ")"
   ]
  },
  {
   "cell_type": "code",
   "execution_count": 10,
   "metadata": {},
   "outputs": [
    {
     "name": "stdout",
     "output_type": "stream",
     "text": [
      "INFO:tensorflow:Assets written to: ./models/image/1/assets\n"
     ]
    }
   ],
   "source": [
    "tf.keras.models.save_model(\n",
    "model,\n",
    "'./models/image/1/', # ./models为tensorflow-serving的模型根⽬录\n",
    "overwrite=True,\n",
    "include_optimizer=True,\n",
    "save_format=None,\n",
    "signatures=None,\n",
    "options=None\n",
    ")"
   ]
  },
  {
   "cell_type": "code",
   "execution_count": null,
   "metadata": {},
   "outputs": [],
   "source": []
  }
 ],
 "metadata": {
  "kernelspec": {
   "display_name": "Python 3",
   "language": "python",
   "name": "python3"
  },
  "language_info": {
   "codemirror_mode": {
    "name": "ipython",
    "version": 3
   },
   "file_extension": ".py",
   "mimetype": "text/x-python",
   "name": "python",
   "nbconvert_exporter": "python",
   "pygments_lexer": "ipython3",
   "version": "3.8.3"
  }
 },
 "nbformat": 4,
 "nbformat_minor": 4
}
