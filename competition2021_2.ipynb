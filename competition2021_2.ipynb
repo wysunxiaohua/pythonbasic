{
 "cells": [
  {
   "cell_type": "code",
   "execution_count": 10,
   "metadata": {},
   "outputs": [
    {
     "name": "stdout",
     "output_type": "stream",
     "text": [
      "[[0.97696444 0.0148905  0.00814506]]\n"
     ]
    }
   ],
   "source": [
    "\n",
    "from sklearn import svm\n",
    "from sklearn import datasets\n",
    "model_xgb = svm.SVC(probability=True)\n",
    "X, y= datasets.load_iris(return_X_y=True)\n",
    "model_xgb.fit(X, y)\n",
    "\n",
    "import pickle \n",
    "\n",
    "#1.保存成Python支持的文件格式Pickle\n",
    "#在当前目录下可以看到new_app_model_v1.pickle\n",
    "with open('models/new_app_model_v1.pickle','wb') as fw:\n",
    "    pickle.dump(model_xgb,fw)\n",
    "    \n",
    "#加载svm.pickle\n",
    "with open('models/new_app_model_v1.pickle','rb') as fr:\n",
    "    new_app_model_v1 = pickle.load(fr)\n",
    "\n",
    "print (new_app_model_v1.predict_proba(X[0:1]))\n",
    "\n"
   ]
  },
  {
   "cell_type": "code",
   "execution_count": null,
   "metadata": {},
   "outputs": [],
   "source": []
  }
 ],
 "metadata": {
  "kernelspec": {
   "display_name": "Python 3",
   "language": "python",
   "name": "python3"
  },
  "language_info": {
   "codemirror_mode": {
    "name": "ipython",
    "version": 3
   },
   "file_extension": ".py",
   "mimetype": "text/x-python",
   "name": "python",
   "nbconvert_exporter": "python",
   "pygments_lexer": "ipython3",
   "version": "3.8.3"
  }
 },
 "nbformat": 4,
 "nbformat_minor": 4
}
