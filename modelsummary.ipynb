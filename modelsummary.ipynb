{
 "cells": [
  {
   "cell_type": "code",
   "execution_count": null,
   "metadata": {},
   "outputs": [],
   "source": []
  },
  {
   "cell_type": "code",
   "execution_count": 25,
   "metadata": {},
   "outputs": [
    {
     "name": "stdout",
     "output_type": "stream",
     "text": [
      "Model: \"sequential_24\"\n",
      "_________________________________________________________________\n",
      "Layer (type)                 Output Shape              Param #   \n",
      "=================================================================\n",
      "conv2d_151 (Conv2D)          (None, 416, 416, 16)      448       \n",
      "_________________________________________________________________\n",
      "max_pooling2d_113 (MaxPoolin (None, 208, 208, 16)      0         \n",
      "_________________________________________________________________\n",
      "conv2d_152 (Conv2D)          (None, 208, 208, 32)      4640      \n",
      "_________________________________________________________________\n",
      "max_pooling2d_114 (MaxPoolin (None, 104, 104, 32)      0         \n",
      "_________________________________________________________________\n",
      "conv2d_153 (Conv2D)          (None, 104, 104, 64)      18496     \n",
      "_________________________________________________________________\n",
      "max_pooling2d_115 (MaxPoolin (None, 52, 52, 64)        0         \n",
      "_________________________________________________________________\n",
      "conv2d_154 (Conv2D)          (None, 52, 52, 128)       73856     \n",
      "_________________________________________________________________\n",
      "max_pooling2d_116 (MaxPoolin (None, 26, 26, 128)       0         \n",
      "_________________________________________________________________\n",
      "conv2d_155 (Conv2D)          (None, 26, 26, 256)       295168    \n",
      "_________________________________________________________________\n",
      "max_pooling2d_117 (MaxPoolin (None, 13, 13, 256)       0         \n",
      "_________________________________________________________________\n",
      "conv2d_156 (Conv2D)          (None, 13, 13, 512)       1180160   \n",
      "_________________________________________________________________\n",
      "max_pooling2d_118 (MaxPoolin (None, 13, 13, 512)       0         \n",
      "_________________________________________________________________\n",
      "conv2d_157 (Conv2D)          (None, 13, 13, 1024)      4719616   \n",
      "_________________________________________________________________\n",
      "conv2d_158 (Conv2D)          (None, 13, 13, 256)       262400    \n",
      "_________________________________________________________________\n",
      "conv2d_159 (Conv2D)          (None, 13, 13, 512)       1180160   \n",
      "_________________________________________________________________\n",
      "conv2d_160 (Conv2D)          (None, 13, 13, 255)       130815    \n",
      "_________________________________________________________________\n",
      "conv2d_161 (Conv2D)          (None, 13, 13, 128)       32768     \n",
      "_________________________________________________________________\n",
      "up_sampling2d_1 (UpSampling2 (None, 26, 26, 128)       0         \n",
      "=================================================================\n",
      "Total params: 7,898,527\n",
      "Trainable params: 7,898,527\n",
      "Non-trainable params: 0\n",
      "_________________________________________________________________\n"
     ]
    }
   ],
   "source": [
    "from keras import layers \n",
    "from keras import models\n",
    "model = models.Sequential()\n",
    "model.add(layers.Conv2D(16, (3, 3), padding=\"same\",activation='relu', input_shape=(416, 416, 3)))   #0\n",
    "model.add(layers.MaxPooling2D((2, 2),2)) #1\n",
    "model.add(layers.Conv2D(32, (3, 3), padding=\"same\",activation='relu')) #2\n",
    "model.add(layers.MaxPooling2D((2, 2)))#3\n",
    "model.add(layers.Conv2D(64, (3, 3), padding=\"same\",activation='relu')) #4\n",
    "model.add(layers.MaxPooling2D((2, 2)))#5\n",
    "model.add(layers.Conv2D(128, (3, 3), padding=\"same\",activation='relu')) #6\n",
    "model.add(layers.MaxPooling2D((2, 2)))#7\n",
    "model.add(layers.Conv2D(256, (3, 3), padding=\"same\",activation='relu')) #8\n",
    "model.add(layers.MaxPooling2D((2, 2)))#9\n",
    "model.add(layers.Conv2D(512, (3, 3), padding=\"same\",activation='relu')) #10\n",
    "model.add(layers.MaxPooling2D((2, 2), 1,padding ='same'))#11\n",
    "\n",
    "model.add(layers.Conv2D(1024, (3, 3), padding=\"same\",activation='relu')) #12\n",
    "model.add(layers.Conv2D(256, (1, 1), padding=\"same\",activation='relu')) #13\n",
    "model.add(layers.Conv2D(512, (3, 3), padding=\"same\",activation='relu')) #14\n",
    "model.add(layers.Conv2D(255, (1, 1), padding=\"same\",activation='relu')) #15\n",
    "\n",
    "model.add(layers.Conv2D(128, (1, 1), padding=\"same\",activation='relu')) #18\n",
    "model.add(layers.UpSampling2D()) #19\n",
    "\n",
    "model.summary()\n"
   ]
  },
  {
   "cell_type": "code",
   "execution_count": null,
   "metadata": {},
   "outputs": [],
   "source": []
  },
  {
   "cell_type": "code",
   "execution_count": null,
   "metadata": {},
   "outputs": [],
   "source": []
  }
 ],
 "metadata": {
  "kernelspec": {
   "display_name": "Python 3",
   "language": "python",
   "name": "python3"
  },
  "language_info": {
   "codemirror_mode": {
    "name": "ipython",
    "version": 3
   },
   "file_extension": ".py",
   "mimetype": "text/x-python",
   "name": "python",
   "nbconvert_exporter": "python",
   "pygments_lexer": "ipython3",
   "version": "3.8.3"
  }
 },
 "nbformat": 4,
 "nbformat_minor": 4
}
